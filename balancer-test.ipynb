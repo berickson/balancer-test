{
 "cells": [
  {
   "cell_type": "code",
   "execution_count": 8,
   "metadata": {},
   "outputs": [],
   "source": [
    "import time\n",
    "import json\n",
    "import pandas as pd\n",
    "from io import StringIO\n",
    "from IPython.display import display, clear_output\n",
    "import matplotlib.pyplot as plt"
   ]
  },
  {
   "cell_type": "code",
   "execution_count": 9,
   "metadata": {},
   "outputs": [
    {
     "name": "stdout",
     "output_type": "stream",
     "text": [
      "curl: (7) Failed to connect to 192.168.86.39 port 80: No route to host\r\n"
     ]
    }
   ],
   "source": [
    "!curl -d \"help\" -X POST http://192.168.86.39/command"
   ]
  },
  {
   "cell_type": "code",
   "execution_count": 10,
   "metadata": {},
   "outputs": [],
   "source": [
    "def crane(cmd): \n",
    "    rv = !curl -m 3 -d '{cmd}' -X POST http://192.168.86.39/command\n",
    "    return rv"
   ]
  },
  {
   "cell_type": "code",
   "execution_count": 11,
   "metadata": {},
   "outputs": [],
   "source": [
    "def robot(cmd): \n",
    "    rv = !curl -d '{cmd}' -X POST http://192.168.86.37/command\n",
    "    return \"\\n\".join(rv)[1:]"
   ]
  },
  {
   "cell_type": "code",
   "execution_count": 12,
   "metadata": {},
   "outputs": [],
   "source": [
    "def get_black_box():\n",
    "    return pd.read_csv(\"http://192.168.86.37/black_box.csv\")\n",
    "    rv = !curl http://192.168.86.37/black_box.csv\n",
    "    return \"\\n\".join(rv)"
   ]
  },
  {
   "cell_type": "code",
   "execution_count": 13,
   "metadata": {},
   "outputs": [
    {
     "data": {
      "image/png": "[encoded data removed]",
      "text/plain": [
       "<Figure size 432x288 with 1 Axes>"
      ]
     },
     "metadata": {
      "needs_background": "light"
     },
     "output_type": "display_data"
    }
   ],
   "source": [
    "get_black_box().plot(x='ms',y='pitch');"
   ]
  },
  {
   "cell_type": "code",
   "execution_count": 14,
   "metadata": {},
   "outputs": [
    {
     "name": "stdout",
     "output_type": "stream",
     "text": [
      "help: displays list of available commands\n",
      "set_wifi_config: \n",
      "set_enable_wifi: \n",
      "set_motor_power: \n",
      "set_peripheral_power: \n",
      "shutdown: \n",
      "page_down: \n",
      "reset_odo: \n",
      "set_wheel_speed: \n",
      "set_wheel_speed_pid: \n",
      "go: \n",
      "stop: Emergency stop, sets motor power to zero\n",
      "set_pitch_pid: \n",
      "get_pitch_pid: \n",
      "set_velocity_pid: \n",
      "get_black_box: returns last recording as csv\n"
     ]
    }
   ],
   "source": [
    "print(robot(\"help\"))"
   ]
  },
  {
   "cell_type": "code",
   "execution_count": 15,
   "metadata": {},
   "outputs": [],
   "source": [
    "def crane_angle_pv():\n",
    "    s = crane(\"s\")[1]\n",
    "    return json.loads(s)[\"angle_pv\"]"
   ]
  },
  {
   "cell_type": "code",
   "execution_count": 16,
   "metadata": {},
   "outputs": [],
   "source": [
    "def crane_is_moving():\n",
    "    s = crane(\"s\")[1]\n",
    "    #print(s)\n",
    "    return json.loads(s)[\"moving\"]"
   ]
  },
  {
   "cell_type": "code",
   "execution_count": 17,
   "metadata": {},
   "outputs": [],
   "source": [
    "# plot run from get_black_box()\n",
    "def plot_run(df):\n",
    "    fig=plt.figure();\n",
    "    fig.set_size_inches((15,5))\n",
    "    plt.subplot(1,2,1)\n",
    "    plt.plot(df.ms,df.pitch,label='pitch');\n",
    "    plt.legend()\n",
    "    plt.subplot(1,2,2)\n",
    "    plt.plot(df.ms,df.left_power,label='power')\n",
    "    plt.plot(df.ms,df.left_velocity,label='velocity')\n",
    "    plt.legend();"
   ]
  },
  {
   "cell_type": "code",
   "execution_count": 18,
   "metadata": {},
   "outputs": [],
   "source": [
    "def test():\n",
    "    robot(\"set_motor_power 0\")\n",
    "    count = 0\n",
    "    crane(\"g 138 10\")\n",
    "    print(\"raising up crane\")\n",
    "    while(crane_is_moving()):\n",
    "        count += 1\n",
    "        time.sleep(0.1)\n",
    "        pass\n",
    "        #clear_output(wait=True)\n",
    "        #display(crane_angle_pv())\n",
    "    print(f\"polled {count} times\")\n",
    "    time.sleep(1)\n",
    "    print(robot(\"get_pitch_pid\"))\n",
    "    print(\"dropping crane\")\n",
    "    crane(\"g 0 5000\")\n",
    "    print(\"running robot\")\n",
    "    robot(\"go\")\n",
    "    time.sleep(5)\n",
    "    df = get_black_box();\n",
    "    plot_run(df)\n"
   ]
  },
  {
   "cell_type": "code",
   "execution_count": 19,
   "metadata": {},
   "outputs": [
    {
     "name": "stdout",
     "output_type": "stream",
     "text": [
      "raising up crane\n"
     ]
    },
    {
     "ename": "JSONDecodeError",
     "evalue": "Expecting value: line 1 column 1 (char 0)",
     "output_type": "error",
     "traceback": [
      "\u001b[0;31m---------------------------------------------------------------------------\u001b[0m",
      "\u001b[0;31mJSONDecodeError\u001b[0m                           Traceback (most recent call last)",
      "\u001b[0;32m<ipython-input-19-fbd55f77ab7c>\u001b[0m in \u001b[0;36m<module>\u001b[0;34m\u001b[0m\n\u001b[0;32m----> 1\u001b[0;31m \u001b[0mtest\u001b[0m\u001b[0;34m(\u001b[0m\u001b[0;34m)\u001b[0m\u001b[0;34m\u001b[0m\u001b[0;34m\u001b[0m\u001b[0m\n\u001b[0m",
      "\u001b[0;32m<ipython-input-18-1206e0c159a1>\u001b[0m in \u001b[0;36mtest\u001b[0;34m()\u001b[0m\n\u001b[1;32m      4\u001b[0m     \u001b[0mcrane\u001b[0m\u001b[0;34m(\u001b[0m\u001b[0;34m\"g 138 10\"\u001b[0m\u001b[0;34m)\u001b[0m\u001b[0;34m\u001b[0m\u001b[0;34m\u001b[0m\u001b[0m\n\u001b[1;32m      5\u001b[0m     \u001b[0mprint\u001b[0m\u001b[0;34m(\u001b[0m\u001b[0;34m\"raising up crane\"\u001b[0m\u001b[0;34m)\u001b[0m\u001b[0;34m\u001b[0m\u001b[0;34m\u001b[0m\u001b[0m\n\u001b[0;32m----> 6\u001b[0;31m     \u001b[0;32mwhile\u001b[0m\u001b[0;34m(\u001b[0m\u001b[0mcrane_is_moving\u001b[0m\u001b[0;34m(\u001b[0m\u001b[0;34m)\u001b[0m\u001b[0;34m)\u001b[0m\u001b[0;34m:\u001b[0m\u001b[0;34m\u001b[0m\u001b[0;34m\u001b[0m\u001b[0m\n\u001b[0m\u001b[1;32m      7\u001b[0m         \u001b[0mcount\u001b[0m \u001b[0;34m+=\u001b[0m \u001b[0;36m1\u001b[0m\u001b[0;34m\u001b[0m\u001b[0;34m\u001b[0m\u001b[0m\n\u001b[1;32m      8\u001b[0m         \u001b[0mtime\u001b[0m\u001b[0;34m.\u001b[0m\u001b[0msleep\u001b[0m\u001b[0;34m(\u001b[0m\u001b[0;36m0.1\u001b[0m\u001b[0;34m)\u001b[0m\u001b[0;34m\u001b[0m\u001b[0;34m\u001b[0m\u001b[0m\n",
      "\u001b[0;32m<ipython-input-16-c0eb43c50c86>\u001b[0m in \u001b[0;36mcrane_is_moving\u001b[0;34m()\u001b[0m\n\u001b[1;32m      2\u001b[0m     \u001b[0ms\u001b[0m \u001b[0;34m=\u001b[0m \u001b[0mcrane\u001b[0m\u001b[0;34m(\u001b[0m\u001b[0;34m\"s\"\u001b[0m\u001b[0;34m)\u001b[0m\u001b[0;34m[\u001b[0m\u001b[0;36m1\u001b[0m\u001b[0;34m]\u001b[0m\u001b[0;34m\u001b[0m\u001b[0;34m\u001b[0m\u001b[0m\n\u001b[1;32m      3\u001b[0m     \u001b[0;31m#print(s)\u001b[0m\u001b[0;34m\u001b[0m\u001b[0;34m\u001b[0m\u001b[0;34m\u001b[0m\u001b[0m\n\u001b[0;32m----> 4\u001b[0;31m     \u001b[0;32mreturn\u001b[0m \u001b[0mjson\u001b[0m\u001b[0;34m.\u001b[0m\u001b[0mloads\u001b[0m\u001b[0;34m(\u001b[0m\u001b[0ms\u001b[0m\u001b[0;34m)\u001b[0m\u001b[0;34m[\u001b[0m\u001b[0;34m\"moving\"\u001b[0m\u001b[0;34m]\u001b[0m\u001b[0;34m\u001b[0m\u001b[0;34m\u001b[0m\u001b[0m\n\u001b[0m",
      "\u001b[0;32m~/anaconda3/lib/python3.7/json/__init__.py\u001b[0m in \u001b[0;36mloads\u001b[0;34m(s, encoding, cls, object_hook, parse_float, parse_int, parse_constant, object_pairs_hook, **kw)\u001b[0m\n\u001b[1;32m    346\u001b[0m             \u001b[0mparse_int\u001b[0m \u001b[0;32mis\u001b[0m \u001b[0;32mNone\u001b[0m \u001b[0;32mand\u001b[0m \u001b[0mparse_float\u001b[0m \u001b[0;32mis\u001b[0m \u001b[0;32mNone\u001b[0m \u001b[0;32mand\u001b[0m\u001b[0;34m\u001b[0m\u001b[0;34m\u001b[0m\u001b[0m\n\u001b[1;32m    347\u001b[0m             parse_constant is None and object_pairs_hook is None and not kw):\n\u001b[0;32m--> 348\u001b[0;31m         \u001b[0;32mreturn\u001b[0m \u001b[0m_default_decoder\u001b[0m\u001b[0;34m.\u001b[0m\u001b[0mdecode\u001b[0m\u001b[0;34m(\u001b[0m\u001b[0ms\u001b[0m\u001b[0;34m)\u001b[0m\u001b[0;34m\u001b[0m\u001b[0;34m\u001b[0m\u001b[0m\n\u001b[0m\u001b[1;32m    349\u001b[0m     \u001b[0;32mif\u001b[0m \u001b[0mcls\u001b[0m \u001b[0;32mis\u001b[0m \u001b[0;32mNone\u001b[0m\u001b[0;34m:\u001b[0m\u001b[0;34m\u001b[0m\u001b[0;34m\u001b[0m\u001b[0m\n\u001b[1;32m    350\u001b[0m         \u001b[0mcls\u001b[0m \u001b[0;34m=\u001b[0m \u001b[0mJSONDecoder\u001b[0m\u001b[0;34m\u001b[0m\u001b[0;34m\u001b[0m\u001b[0m\n",
      "\u001b[0;32m~/anaconda3/lib/python3.7/json/decoder.py\u001b[0m in \u001b[0;36mdecode\u001b[0;34m(self, s, _w)\u001b[0m\n\u001b[1;32m    335\u001b[0m \u001b[0;34m\u001b[0m\u001b[0m\n\u001b[1;32m    336\u001b[0m         \"\"\"\n\u001b[0;32m--> 337\u001b[0;31m         \u001b[0mobj\u001b[0m\u001b[0;34m,\u001b[0m \u001b[0mend\u001b[0m \u001b[0;34m=\u001b[0m \u001b[0mself\u001b[0m\u001b[0;34m.\u001b[0m\u001b[0mraw_decode\u001b[0m\u001b[0;34m(\u001b[0m\u001b[0ms\u001b[0m\u001b[0;34m,\u001b[0m \u001b[0midx\u001b[0m\u001b[0;34m=\u001b[0m\u001b[0m_w\u001b[0m\u001b[0;34m(\u001b[0m\u001b[0ms\u001b[0m\u001b[0;34m,\u001b[0m \u001b[0;36m0\u001b[0m\u001b[0;34m)\u001b[0m\u001b[0;34m.\u001b[0m\u001b[0mend\u001b[0m\u001b[0;34m(\u001b[0m\u001b[0;34m)\u001b[0m\u001b[0;34m)\u001b[0m\u001b[0;34m\u001b[0m\u001b[0;34m\u001b[0m\u001b[0m\n\u001b[0m\u001b[1;32m    338\u001b[0m         \u001b[0mend\u001b[0m \u001b[0;34m=\u001b[0m \u001b[0m_w\u001b[0m\u001b[0;34m(\u001b[0m\u001b[0ms\u001b[0m\u001b[0;34m,\u001b[0m \u001b[0mend\u001b[0m\u001b[0;34m)\u001b[0m\u001b[0;34m.\u001b[0m\u001b[0mend\u001b[0m\u001b[0;34m(\u001b[0m\u001b[0;34m)\u001b[0m\u001b[0;34m\u001b[0m\u001b[0;34m\u001b[0m\u001b[0m\n\u001b[1;32m    339\u001b[0m         \u001b[0;32mif\u001b[0m \u001b[0mend\u001b[0m \u001b[0;34m!=\u001b[0m \u001b[0mlen\u001b[0m\u001b[0;34m(\u001b[0m\u001b[0ms\u001b[0m\u001b[0;34m)\u001b[0m\u001b[0;34m:\u001b[0m\u001b[0;34m\u001b[0m\u001b[0;34m\u001b[0m\u001b[0m\n",
      "\u001b[0;32m~/anaconda3/lib/python3.7/json/decoder.py\u001b[0m in \u001b[0;36mraw_decode\u001b[0;34m(self, s, idx)\u001b[0m\n\u001b[1;32m    353\u001b[0m             \u001b[0mobj\u001b[0m\u001b[0;34m,\u001b[0m \u001b[0mend\u001b[0m \u001b[0;34m=\u001b[0m \u001b[0mself\u001b[0m\u001b[0;34m.\u001b[0m\u001b[0mscan_once\u001b[0m\u001b[0;34m(\u001b[0m\u001b[0ms\u001b[0m\u001b[0;34m,\u001b[0m \u001b[0midx\u001b[0m\u001b[0;34m)\u001b[0m\u001b[0;34m\u001b[0m\u001b[0;34m\u001b[0m\u001b[0m\n\u001b[1;32m    354\u001b[0m         \u001b[0;32mexcept\u001b[0m \u001b[0mStopIteration\u001b[0m \u001b[0;32mas\u001b[0m \u001b[0merr\u001b[0m\u001b[0;34m:\u001b[0m\u001b[0;34m\u001b[0m\u001b[0;34m\u001b[0m\u001b[0m\n\u001b[0;32m--> 355\u001b[0;31m             \u001b[0;32mraise\u001b[0m \u001b[0mJSONDecodeError\u001b[0m\u001b[0;34m(\u001b[0m\u001b[0;34m\"Expecting value\"\u001b[0m\u001b[0;34m,\u001b[0m \u001b[0ms\u001b[0m\u001b[0;34m,\u001b[0m \u001b[0merr\u001b[0m\u001b[0;34m.\u001b[0m\u001b[0mvalue\u001b[0m\u001b[0;34m)\u001b[0m \u001b[0;32mfrom\u001b[0m \u001b[0;32mNone\u001b[0m\u001b[0;34m\u001b[0m\u001b[0;34m\u001b[0m\u001b[0m\n\u001b[0m\u001b[1;32m    356\u001b[0m         \u001b[0;32mreturn\u001b[0m \u001b[0mobj\u001b[0m\u001b[0;34m,\u001b[0m \u001b[0mend\u001b[0m\u001b[0;34m\u001b[0m\u001b[0;34m\u001b[0m\u001b[0m\n",
      "\u001b[0;31mJSONDecodeError\u001b[0m: Expecting value: line 1 column 1 (char 0)"
     ]
    }
   ],
   "source": [
    "test()"
   ]
  },
  {
   "cell_type": "code",
   "execution_count": null,
   "metadata": {},
   "outputs": [],
   "source": [
    "robot(\"set_pitch_pid 0.9 0 0.05\")\n",
    "test()"
   ]
  },
  {
   "cell_type": "code",
   "execution_count": null,
   "metadata": {},
   "outputs": [],
   "source": [
    "robot(\"set_pitch_pid 0.5 0 0.02\")\n",
    "test()"
   ]
  },
  {
   "cell_type": "code",
   "execution_count": null,
   "metadata": {},
   "outputs": [],
   "source": [
    "robot(\"set_pitch_pid 1.0 0 0.02\")\n",
    "test()"
   ]
  },
  {
   "cell_type": "code",
   "execution_count": null,
   "metadata": {},
   "outputs": [],
   "source": [
    "robot(\"set_pitch_pid 1.0 0 0.05\")\n",
    "test()"
   ]
  },
  {
   "cell_type": "code",
   "execution_count": null,
   "metadata": {},
   "outputs": [],
   "source": [
    "robot(\"set_pitch_pid 1.0 0 0.05\")\n",
    "test()"
   ]
  },
  {
   "cell_type": "code",
   "execution_count": null,
   "metadata": {},
   "outputs": [],
   "source": [
    "robot(\"set_pitch_pid 1.0 0 0.05\")\n",
    "test()"
   ]
  },
  {
   "cell_type": "code",
   "execution_count": null,
   "metadata": {},
   "outputs": [],
   "source": [
    "robot(\"set_pitch_pid 1.0 0.1 0.05\")\n",
    "test()"
   ]
  },
  {
   "cell_type": "code",
   "execution_count": null,
   "metadata": {},
   "outputs": [],
   "source": [
    "robot(\"set_pitch_pid 1.0 0.1 0.05\")\n",
    "test()"
   ]
  },
  {
   "cell_type": "code",
   "execution_count": null,
   "metadata": {},
   "outputs": [],
   "source": [
    "robot(\"set_pitch_pid 1.0 0.1 0.05\")\n",
    "test()"
   ]
  },
  {
   "cell_type": "code",
   "execution_count": null,
   "metadata": {},
   "outputs": [],
   "source": [
    "robot(\"set_pitch_pid 1.0 0.1 0.05\")\n",
    "test()"
   ]
  },
  {
   "cell_type": "code",
   "execution_count": 20,
   "metadata": {},
   "outputs": [
    {
     "name": "stdout",
     "output_type": "stream",
     "text": [
      "0 ['', '{\"angle_sp\":90.00,\"angle_pv\":90.00,\"rate\":0.00,\"moving\":false}']\n",
      "10 ['', '{\"angle_sp\":90.00,\"angle_pv\":90.00,\"rate\":0.00,\"moving\":false}']\n",
      "20 ['', '{\"angle_sp\":90.00,\"angle_pv\":90.00,\"rate\":0.00,\"moving\":false}']\n",
      "30 ['', '{\"angle_sp\":90.00,\"angle_pv\":90.00,\"rate\":0.00,\"moving\":false}']\n",
      "40 ['', '{\"angle_sp\":90.00,\"angle_pv\":90.00,\"rate\":0.00,\"moving\":false}']\n",
      "50 ['', '{\"angle_sp\":90.00,\"angle_pv\":90.00,\"rate\":0.00,\"moving\":false}']\n",
      "60 ['', '{\"angle_sp\":90.00,\"angle_pv\":90.00,\"rate\":0.00,\"moving\":false}']\n",
      "70 ['', '{\"angle_sp\":90.00,\"angle_pv\":90.00,\"rate\":0.00,\"moving\":false}']\n",
      "80 ['', '{\"angle_sp\":90.00,\"angle_pv\":90.00,\"rate\":0.00,\"moving\":false}']\n",
      "90 ['', '{\"angle_sp\":90.00,\"angle_pv\":90.00,\"rate\":0.00,\"moving\":false}']\n",
      "100 ['', '{\"angle_sp\":90.00,\"angle_pv\":90.00,\"rate\":0.00,\"moving\":false}']\n",
      "110 ['', '{\"angle_sp\":90.00,\"angle_pv\":90.00,\"rate\":0.00,\"moving\":false}']\n",
      "120 ['', '{\"angle_sp\":90.00,\"angle_pv\":90.00,\"rate\":0.00,\"moving\":false}']\n",
      "130 ['', '{\"angle_sp\":90.00,\"angle_pv\":90.00,\"rate\":0.00,\"moving\":false}']\n",
      "140 ['', '{\"angle_sp\":90.00,\"angle_pv\":90.00,\"rate\":0.00,\"moving\":false}']\n",
      "150 ['', '{\"angle_sp\":90.00,\"angle_pv\":90.00,\"rate\":0.00,\"moving\":false}']\n",
      "160 ['', '{\"angle_sp\":90.00,\"angle_pv\":90.00,\"rate\":0.00,\"moving\":false}']\n",
      "170 ['', '{\"angle_sp\":90.00,\"angle_pv\":90.00,\"rate\":0.00,\"moving\":false}']\n",
      "180 ['', '{\"angle_sp\":90.00,\"angle_pv\":90.00,\"rate\":0.00,\"moving\":false}']\n",
      "190 ['', '{\"angle_sp\":90.00,\"angle_pv\":90.00,\"rate\":0.00,\"moving\":false}']\n",
      "200 ['', '{\"angle_sp\":90.00,\"angle_pv\":90.00,\"rate\":0.00,\"moving\":false}']\n",
      "210 ['', '{\"angle_sp\":90.00,\"angle_pv\":90.00,\"rate\":0.00,\"moving\":false}']\n",
      "220 ['', '{\"angle_sp\":90.00,\"angle_pv\":90.00,\"rate\":0.00,\"moving\":false}']\n",
      "230 ['', '{\"angle_sp\":90.00,\"angle_pv\":90.00,\"rate\":0.00,\"moving\":false}']\n",
      "240 ['', '{\"angle_sp\":90.00,\"angle_pv\":90.00,\"rate\":0.00,\"moving\":false}']\n",
      "250 ['', '{\"angle_sp\":90.00,\"angle_pv\":90.00,\"rate\":0.00,\"moving\":false}']\n",
      "260 ['', '{\"angle_sp\":90.00,\"angle_pv\":90.00,\"rate\":0.00,\"moving\":false}']\n",
      "270 ['', '{\"angle_sp\":90.00,\"angle_pv\":90.00,\"rate\":0.00,\"moving\":false}']\n",
      "280 ['', '{\"angle_sp\":90.00,\"angle_pv\":90.00,\"rate\":0.00,\"moving\":false}']\n",
      "290 ['', '{\"angle_sp\":90.00,\"angle_pv\":90.00,\"rate\":0.00,\"moving\":false}']\n",
      "300 ['', '{\"angle_sp\":90.00,\"angle_pv\":90.00,\"rate\":0.00,\"moving\":false}']\n",
      "310 ['', '{\"angle_sp\":90.00,\"angle_pv\":90.00,\"rate\":0.00,\"moving\":false}']\n",
      "320 ['', '{\"angle_sp\":90.00,\"angle_pv\":90.00,\"rate\":0.00,\"moving\":false}']\n",
      "330 ['', '{\"angle_sp\":90.00,\"angle_pv\":90.00,\"rate\":0.00,\"moving\":false}']\n",
      "340 ['', '{\"angle_sp\":90.00,\"angle_pv\":90.00,\"rate\":0.00,\"moving\":false}']\n",
      "350 ['', '{\"angle_sp\":90.00,\"angle_pv\":90.00,\"rate\":0.00,\"moving\":false}']\n",
      "360 ['', '{\"angle_sp\":90.00,\"angle_pv\":90.00,\"rate\":0.00,\"moving\":false}']\n",
      "370 ['', '{\"angle_sp\":90.00,\"angle_pv\":90.00,\"rate\":0.00,\"moving\":false}']\n",
      "380 ['', '{\"angle_sp\":90.00,\"angle_pv\":90.00,\"rate\":0.00,\"moving\":false}']\n",
      "390 ['', '{\"angle_sp\":90.00,\"angle_pv\":90.00,\"rate\":0.00,\"moving\":false}']\n",
      "400 ['', '{\"angle_sp\":90.00,\"angle_pv\":90.00,\"rate\":0.00,\"moving\":false}']\n",
      "410 ['', '{\"angle_sp\":90.00,\"angle_pv\":90.00,\"rate\":0.00,\"moving\":false}']\n",
      "420 ['', '{\"angle_sp\":90.00,\"angle_pv\":90.00,\"rate\":0.00,\"moving\":false}']\n",
      "430 ['', '{\"angle_sp\":90.00,\"angle_pv\":90.00,\"rate\":0.00,\"moving\":false}']\n",
      "440 ['', '{\"angle_sp\":90.00,\"angle_pv\":90.00,\"rate\":0.00,\"moving\":false}']\n",
      "450 ['', '{\"angle_sp\":90.00,\"angle_pv\":90.00,\"rate\":0.00,\"moving\":false}']\n",
      "460 ['', '{\"angle_sp\":90.00,\"angle_pv\":90.00,\"rate\":0.00,\"moving\":false}']\n",
      "470 ['', '{\"angle_sp\":90.00,\"angle_pv\":90.00,\"rate\":0.00,\"moving\":false}']\n",
      "480 ['', '{\"angle_sp\":90.00,\"angle_pv\":90.00,\"rate\":0.00,\"moving\":false}']\n",
      "490 ['', '{\"angle_sp\":90.00,\"angle_pv\":90.00,\"rate\":0.00,\"moving\":false}']\n",
      "500 ['', '{\"angle_sp\":90.00,\"angle_pv\":90.00,\"rate\":0.00,\"moving\":false}']\n",
      "510 ['', '{\"angle_sp\":90.00,\"angle_pv\":90.00,\"rate\":0.00,\"moving\":false}']\n",
      "520 ['', '{\"angle_sp\":90.00,\"angle_pv\":90.00,\"rate\":0.00,\"moving\":false}']\n",
      "530 ['', '{\"angle_sp\":90.00,\"angle_pv\":90.00,\"rate\":0.00,\"moving\":false}']\n",
      "540 ['', '{\"angle_sp\":90.00,\"angle_pv\":90.00,\"rate\":0.00,\"moving\":false}']\n",
      "550 ['', '{\"angle_sp\":90.00,\"angle_pv\":90.00,\"rate\":0.00,\"moving\":false}']\n",
      "560 ['', '{\"angle_sp\":90.00,\"angle_pv\":90.00,\"rate\":0.00,\"moving\":false}']\n",
      "570 ['', '{\"angle_sp\":90.00,\"angle_pv\":90.00,\"rate\":0.00,\"moving\":false}']\n",
      "580 ['', '{\"angle_sp\":90.00,\"angle_pv\":90.00,\"rate\":0.00,\"moving\":false}']\n",
      "590 ['', '{\"angle_sp\":90.00,\"angle_pv\":90.00,\"rate\":0.00,\"moving\":false}']\n",
      "600 ['', '{\"angle_sp\":90.00,\"angle_pv\":90.00,\"rate\":0.00,\"moving\":false}']\n",
      "610 ['', '{\"angle_sp\":90.00,\"angle_pv\":90.00,\"rate\":0.00,\"moving\":false}']\n",
      "620 ['', '{\"angle_sp\":90.00,\"angle_pv\":90.00,\"rate\":0.00,\"moving\":false}']\n",
      "630 ['', '{\"angle_sp\":90.00,\"angle_pv\":90.00,\"rate\":0.00,\"moving\":false}']\n",
      "640 ['', '{\"angle_sp\":90.00,\"angle_pv\":90.00,\"rate\":0.00,\"moving\":false}']\n",
      "650 ['', '{\"angle_sp\":90.00,\"angle_pv\":90.00,\"rate\":0.00,\"moving\":false}']\n",
      "660 ['', '{\"angle_sp\":90.00,\"angle_pv\":90.00,\"rate\":0.00,\"moving\":false}']\n",
      "670 ['', '{\"angle_sp\":90.00,\"angle_pv\":90.00,\"rate\":0.00,\"moving\":false}']\n",
      "680 ['', '{\"angle_sp\":90.00,\"angle_pv\":90.00,\"rate\":0.00,\"moving\":false}']\n",
      "690 ['', '{\"angle_sp\":90.00,\"angle_pv\":90.00,\"rate\":0.00,\"moving\":false}']\n",
      "700 ['', '{\"angle_sp\":90.00,\"angle_pv\":90.00,\"rate\":0.00,\"moving\":false}']\n",
      "710 ['', '{\"angle_sp\":90.00,\"angle_pv\":90.00,\"rate\":0.00,\"moving\":false}']\n",
      "720 ['', '{\"angle_sp\":90.00,\"angle_pv\":90.00,\"rate\":0.00,\"moving\":false}']\n",
      "730 ['', '{\"angle_sp\":90.00,\"angle_pv\":90.00,\"rate\":0.00,\"moving\":false}']\n",
      "740 ['', '{\"angle_sp\":90.00,\"angle_pv\":90.00,\"rate\":0.00,\"moving\":false}']\n",
      "750 ['', '{\"angle_sp\":90.00,\"angle_pv\":90.00,\"rate\":0.00,\"moving\":false}']\n",
      "760 ['', '{\"angle_sp\":90.00,\"angle_pv\":90.00,\"rate\":0.00,\"moving\":false}']\n",
      "770 ['', '{\"angle_sp\":90.00,\"angle_pv\":90.00,\"rate\":0.00,\"moving\":false}']\n",
      "780 ['', 'curl: (28) Connection timed out after 3000 milliseconds']\n",
      "790 ['', 'curl: (28) Connection timed out after 3000 milliseconds']\n",
      "800 ['', 'curl: (7) Failed to connect to 192.168.86.39 port 80: No route to host']\n",
      "810 ['', 'curl: (7) Failed to connect to 192.168.86.39 port 80: No route to host']\n",
      "820 ['', 'curl: (7) Failed to connect to 192.168.86.39 port 80: No route to host']\n",
      "830 ['', 'curl: (7) Failed to connect to 192.168.86.39 port 80: No route to host']\n",
      "840 ['', 'curl: (7) Failed to connect to 192.168.86.39 port 80: No route to host']\n",
      "850 ['', 'curl: (7) Failed to connect to 192.168.86.39 port 80: No route to host']\n",
      "860 ['', 'curl: (7) Failed to connect to 192.168.86.39 port 80: No route to host']\n",
      "870 ['', 'curl: (7) Failed to connect to 192.168.86.39 port 80: No route to host']\n",
      "880 ['', 'curl: (7) Failed to connect to 192.168.86.39 port 80: No route to host']\n",
      "890 ['', 'curl: (7) Failed to connect to 192.168.86.39 port 80: No route to host']\n",
      "900 ['', 'curl: (7) Failed to connect to 192.168.86.39 port 80: No route to host']\n",
      "910 ['', 'curl: (7) Failed to connect to 192.168.86.39 port 80: No route to host']\n",
      "920 ['', 'curl: (7) Failed to connect to 192.168.86.39 port 80: No route to host']\n",
      "930 ['', 'curl: (7) Failed to connect to 192.168.86.39 port 80: No route to host']\n",
      "940 ['', 'curl: (7) Failed to connect to 192.168.86.39 port 80: No route to host']\n",
      "950 ['', 'curl: (7) Failed to connect to 192.168.86.39 port 80: No route to host']\n",
      "960 ['', 'curl: (7) Failed to connect to 192.168.86.39 port 80: No route to host']\n",
      "970 ['', 'curl: (7) Failed to connect to 192.168.86.39 port 80: No route to host']\n",
      "980 ['', 'curl: (7) Failed to connect to 192.168.86.39 port 80: No route to host']\n",
      "990 ['', 'curl: (7) Failed to connect to 192.168.86.39 port 80: No route to host']\n"
     ]
    }
   ],
   "source": [
    "for j in range(100):\n",
    "    for i in range(10):\n",
    "        s=crane(\"s\")\n",
    "    print(j*10,s)\n"
   ]
  },
  {
   "cell_type": "code",
   "execution_count": null,
   "metadata": {},
   "outputs": [],
   "source": []
  }
 ],
 "metadata": {
  "kernelspec": {
   "display_name": "Python 3",
   "language": "python",
   "name": "python3"
  }
 },
 "nbformat": 4,
 "nbformat_minor": 2
}
